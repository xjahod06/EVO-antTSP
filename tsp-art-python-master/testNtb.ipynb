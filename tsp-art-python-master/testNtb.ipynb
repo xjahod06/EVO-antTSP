{
 "cells": [
  {
   "cell_type": "code",
   "execution_count": 1,
   "metadata": {},
   "outputs": [],
   "source": [
    "import draw_tsp_path\n",
    "import os\n",
    "import pickle\n",
    "import json\n",
    "IMAGE_TSP = \"images/VUT-1024-stipple.tsp\"\n",
    "data = draw_tsp_path.create_data_model(IMAGE_TSP)"
   ]
  },
  {
   "cell_type": "code",
   "execution_count": 6,
   "metadata": {},
   "outputs": [],
   "source": [
    "routes = [239,70,72,240,408,704,242,244,405,217,218,221,220,270,428,427,429,425,426,316,514,504,508,507,506,502,505,403,503,312,313,158,69,22,23,150,77,145,581,578,705,222,223,404,407,401,406,214,219,238,235,233,232,237,228,229,400,399,391,195,196,561,369,194,197,198,193,393,397,204,205,19,46,122,123,209,213,206,208,207,49,53,54,210,47,3,117,9,63,5,48,34,35,544,797,798,794,997,793,783,784,676,789,788,953,952,881,994,989,820,822,812,832,682,722,721,716,720,588,829,827,830,713,542,816,903,904,905,965,969,813,815,14,13,170,4,267,113,389,386,387,260,264,110,108,265,128,100,40,2,58,814,819,171,59,42,12,357,11,103,97,98,96,94,102,174,188,101,358,356,546,818,817,968,964,966,967,988,684,799,547,543,545,86,33,36,15,84,62,6,413,211,8,411,17,16,67,21,130,549,359,18,360,61,64,787,785,666,686,908,975,687,673,685,551,172,131,553,689,691,636,635,690,977,970,974,915,914,909,786,824,823,913,911,912,916,973,972,917,971,918,1004,892,883,1000,960,838,840,800,902,1001,1002,963,901,879,880,958,791,790,804,956,801,802,688,806,886,890,803,957,954,955,885,882,889,888,962,961,999,1005,1003,959,897,898,719,587,421,811,900,896,891,894,679,893,680,808,884,810,638,858,634,862,755,756,757,487,644,759,760,762,758,761,859,860,857,861,933,978,932,983,748,733,734,493,484,485,481,482,645,538,541,539,351,661,660,540,856,855,751,781,780,779,777,874,944,753,752,664,662,536,853,851,854,754,826,825,906,778,782,948,875,947,951,950,949,852,749,639,750,349,476,350,480,483,486,649,648,732,747,846,982,981,940,744,740,745,848,746,743,138,275,276,456,454,458,442,460,459,495,501,447,499,498,494,496,500,497,25,27,20,431,430,160,76,26,78,24,80,79,163,164,348,344,347,345,340,346,532,531,530,534,535,168,527,529,324,341,342,525,526,524,165,166,528,167,523,339,81,29,74,82,75,73,159,434,432,597,598,600,272,162,161,512,329,327,510,511,868,867,653,767,765,766,768,325,519,520,516,515,517,518,337,336,522,521,333,334,157,156,651,155,153,148,302,152,320,154,322,303,310,306,304,305,309,308,307,151,149,144,568,574,575,479,642,576,287,573,288,132,116,410,412,409,708,706,702,703,579,114,147,146,580,115,119,564,696,695,626,624,435,273,299,300,140,139,135,137,284,623,283,625,136,291,290,465,471,849,943,850,942,1010,1006,1012,863,864,865,492,491,931,477,478,488,929,979,1007,1008,1009,980,847,937,736,737,466,463,731,727,726,728,617,452,453,608,450,437,438,436,615,730,462,461,282,440,610,618,449,277,451,448,619,280,279,445,444,278,443,441,446,292,294,293,295,317,318,286,285,467,629,627,632,567,569,700,701,930,647,650,643,489,490,85,83,675,353,352,672,670,665,548,792,998,995,991,996,795,796,586,584,724,723,725,927,842,843,844,836,715,585,423,424,422,920,845,921,926,923,928,837,1021,1014,1020,1013,984,678,677,809,807,834,833,925,835,922,919,714,924,1015,1016,945,946,775,876,663,877,985,1017,986,1018,1023,1022,1019,895,899,718,717,591,710,589,828,709,711,712,583,354,419,414,417,415,382,381,383,91,99,90,93,92,554,190,88,89,87,375,372,377,376,256,255,380,373,202,107,555,562,560,559,556,557,366,370,558,362,104,363,364,365,129,266,173,254,416,418,201,109,111,44,200,694,693,257,563,374,692,258,10,0,1,390,45,56,262,112,263,261,388,57,7,43,41,385,189,355,186,185,187,179,180,32,31,184,183,37,38,105,199,106,192,191,177,175,95,176,30,52,178,182,181,707,241,133,134,120,577,118,289,473,474,640,475,335,301,332,331,330,697,319,699,698,603,602,604,594,593,607,592,599,601,321,203,566,565,571,570,572,297,296,455,65,234,236,230,224,231,226,225,127,247,396,394,398,392,249,250,371,367,368,68,243,126,125,245,215,216,55,143,142,71,658,659,774,772,655,314,315,657,326,268,269,328,513,764,343,771,769,869,773,656,124,271,253,251,252,395,227,248,259,420,379,384,39,378,910,671,667,669,550,361,668,169,50,51,212,121,246,622,620,621,631,469,468,470,938,935,939,941,739,738,735,741,742,611,614,613,457,281,439,464,729,60,674,552,976,990,987,878,821,681,683,841,839,590,831,66,323,605,606,274,298,872,871,873,866,870,654,433,596,595,402,311,628,633,763,630,770,652,509,141,533,338,28,612,609,616,472,1011,537,637,887,805,776,907,934,646,993,641,582,992,936,239]"
   ]
  },
  {
   "cell_type": "code",
   "execution_count": 7,
   "metadata": {},
   "outputs": [
    {
     "name": "stdout",
     "output_type": "stream",
     "text": [
      "TSP solution has been drawn and can be viewed at images/C++version.png\n"
     ]
    }
   ],
   "source": [
    "draw_tsp_path.draw_routes(data['locations'],routes,FINAL_IMAGE=\"images/C++version.png\")"
   ]
  },
  {
   "cell_type": "code",
   "execution_count": 2,
   "metadata": {},
   "outputs": [],
   "source": [
    "def routes_from_file(filename):\n",
    "    with open(\"../routes/\" + filename) as f:\n",
    "        lines = f.readlines()\n",
    "    return (int(lines[-1].split('\\t')[0]),[int(item) for item in lines[-1].split('\\t')[1].replace('\\n','').split(',')])\n",
    "\n",
    "def draw_img(filename,routes,locations=data['locations']):\n",
    "    final_file = \"images/VUT/\" + (filename.replace('.route','-tsp.png'))\n",
    "    draw_tsp_path.draw_routes(locations,routes,FINAL_IMAGE=final_file)"
   ]
  },
  {
   "cell_type": "code",
   "execution_count": 9,
   "metadata": {},
   "outputs": [
    {
     "ename": "FileNotFoundError",
     "evalue": "[Errno 2] No such file or directory: '../routes/VUT.route'",
     "output_type": "error",
     "traceback": [
      "\u001b[0;31m---------------------------------------------------------------------------\u001b[0m",
      "\u001b[0;31mFileNotFoundError\u001b[0m                         Traceback (most recent call last)",
      "\u001b[1;32m/home/jahoda/EVO/project/EVO-antTSP/tsp-art-python-master/testNtb.ipynb Cell 5'\u001b[0m in \u001b[0;36m<cell line: 1>\u001b[0;34m()\u001b[0m\n\u001b[0;32m----> <a href='vscode-notebook-cell://wsl%2Bubuntu-20.04/home/jahoda/EVO/project/EVO-antTSP/tsp-art-python-master/testNtb.ipynb#ch0000004vscode-remote?line=0'>1</a>\u001b[0m draw_img(\u001b[39m'\u001b[39m\u001b[39mVUT.route\u001b[39m\u001b[39m'\u001b[39m,routes_from_file(\u001b[39m'\u001b[39;49m\u001b[39mVUT.route\u001b[39;49m\u001b[39m'\u001b[39;49m)[\u001b[39m1\u001b[39m])\n",
      "\u001b[1;32m/home/jahoda/EVO/project/EVO-antTSP/tsp-art-python-master/testNtb.ipynb Cell 4'\u001b[0m in \u001b[0;36mroutes_from_file\u001b[0;34m(filename)\u001b[0m\n\u001b[1;32m      <a href='vscode-notebook-cell://wsl%2Bubuntu-20.04/home/jahoda/EVO/project/EVO-antTSP/tsp-art-python-master/testNtb.ipynb#ch0000003vscode-remote?line=0'>1</a>\u001b[0m \u001b[39mdef\u001b[39;00m \u001b[39mroutes_from_file\u001b[39m(filename):\n\u001b[0;32m----> <a href='vscode-notebook-cell://wsl%2Bubuntu-20.04/home/jahoda/EVO/project/EVO-antTSP/tsp-art-python-master/testNtb.ipynb#ch0000003vscode-remote?line=1'>2</a>\u001b[0m     \u001b[39mwith\u001b[39;00m \u001b[39mopen\u001b[39;49m(\u001b[39m\"\u001b[39;49m\u001b[39m../routes/\u001b[39;49m\u001b[39m\"\u001b[39;49m \u001b[39m+\u001b[39;49m filename) \u001b[39mas\u001b[39;00m f:\n\u001b[1;32m      <a href='vscode-notebook-cell://wsl%2Bubuntu-20.04/home/jahoda/EVO/project/EVO-antTSP/tsp-art-python-master/testNtb.ipynb#ch0000003vscode-remote?line=2'>3</a>\u001b[0m         lines \u001b[39m=\u001b[39m f\u001b[39m.\u001b[39mreadlines()\n\u001b[1;32m      <a href='vscode-notebook-cell://wsl%2Bubuntu-20.04/home/jahoda/EVO/project/EVO-antTSP/tsp-art-python-master/testNtb.ipynb#ch0000003vscode-remote?line=3'>4</a>\u001b[0m     \u001b[39mreturn\u001b[39;00m (\u001b[39mint\u001b[39m(lines[\u001b[39m-\u001b[39m\u001b[39m1\u001b[39m]\u001b[39m.\u001b[39msplit(\u001b[39m'\u001b[39m\u001b[39m\\t\u001b[39;00m\u001b[39m'\u001b[39m)[\u001b[39m0\u001b[39m]),[\u001b[39mint\u001b[39m(item) \u001b[39mfor\u001b[39;00m item \u001b[39min\u001b[39;00m lines[\u001b[39m-\u001b[39m\u001b[39m1\u001b[39m]\u001b[39m.\u001b[39msplit(\u001b[39m'\u001b[39m\u001b[39m\\t\u001b[39;00m\u001b[39m'\u001b[39m)[\u001b[39m1\u001b[39m]\u001b[39m.\u001b[39mreplace(\u001b[39m'\u001b[39m\u001b[39m\\n\u001b[39;00m\u001b[39m'\u001b[39m,\u001b[39m'\u001b[39m\u001b[39m'\u001b[39m)\u001b[39m.\u001b[39msplit(\u001b[39m'\u001b[39m\u001b[39m,\u001b[39m\u001b[39m'\u001b[39m)])\n",
      "\u001b[0;31mFileNotFoundError\u001b[0m: [Errno 2] No such file or directory: '../routes/VUT.route'"
     ]
    }
   ],
   "source": [
    "draw_img('VUT.route',routes_from_file('VUT.route')[1])"
   ]
  },
  {
   "cell_type": "code",
   "execution_count": 3,
   "metadata": {},
   "outputs": [],
   "source": [
    "def_val_dict = {\n",
    "    'file' : \"VUT\",\n",
    "    'iterations' : 150,\n",
    "    'ants' : 50,\n",
    "    'initial_pheromone' : 0.01,\n",
    "    'q' : 0.5,\n",
    "    'rho' : 0.05,\n",
    "    'beta' : 1.0,\n",
    "    'alpha' : 1.0,\n",
    "    'elistist_val' : 2.0,\n",
    "    'rank' : 1,\n",
    "    }\n",
    "systems = [\n",
    "    #'rank',\n",
    "    'simple',\n",
    "    'elitist',\n",
    "    #'maxmin',\n",
    "    #'acs',\n",
    "]\n",
    "\n",
    "def calc_one_run(json,system):\n",
    "    if system == 'elitist':\n",
    "        system += \" \"+str(json['elistist_val'])\n",
    "    elif system == 'rank':\n",
    "        system += \" \"+str(json['rank'])\n",
    "    out = os.system(\"cd ../libaco-master/acotsp/; ./bin/acotsp --{} -f benchmarks/darkVUT-256-stipple.tsp -i {} -m {} -p {} -q {} -r {} -b {} -a {} > ../../routes/{}.route\".format(\n",
    "            system,\n",
    "            json['iterations'],\n",
    "            json['ants'],\n",
    "            json['initial_pheromone'],\n",
    "            json['q'],\n",
    "            json['rho'],\n",
    "            json['beta'],\n",
    "            json['alpha'],\n",
    "            json['file']\n",
    "            )\n",
    "        )\n",
    "    if out != 0:\n",
    "        print(\"some fucked up happend \",json['file'])\n",
    "    \n",
    "    best_score, routes = routes_from_file(json['file']+'.route')\n",
    "    print(json['file'],'with score',best_score,'saving....')\n",
    "    draw_img(json['file']+'.route',routes)\n",
    "    return best_score,routes\n"
   ]
  },
  {
   "cell_type": "code",
   "execution_count": 13,
   "metadata": {},
   "outputs": [],
   "source": [
    "def save_arr(name,arr):\n",
    "    with open(\"images/VUT/\"+name+\".pkl\", \"wb\") as saved_data:\n",
    "        pickle.dump(arr, saved_data)\n",
    "    saved_data.close()"
   ]
  },
  {
   "cell_type": "code",
   "execution_count": 5,
   "metadata": {},
   "outputs": [
    {
     "name": "stdout",
     "output_type": "stream",
     "text": [
      "256darkVUT_simple_ants_10 with score 13203 saving....\n",
      "TSP solution has been drawn and can be viewed at images/VUT/256darkVUT_simple_ants_10-tsp.png\n"
     ]
    },
    {
     "ename": "NameError",
     "evalue": "name 'save_arr' is not defined",
     "output_type": "error",
     "traceback": [
      "\u001b[0;31m---------------------------------------------------------------------------\u001b[0m",
      "\u001b[0;31mNameError\u001b[0m                                 Traceback (most recent call last)",
      "\u001b[1;32m/home/jahoda/EVO/project/EVO-antTSP/tsp-art-python-master/testNtb.ipynb Cell 8'\u001b[0m in \u001b[0;36m<cell line: 2>\u001b[0;34m()\u001b[0m\n\u001b[1;32m      <a href='vscode-notebook-cell://wsl%2Bubuntu-20.04/home/jahoda/EVO/project/EVO-antTSP/tsp-art-python-master/testNtb.ipynb#ch0000006vscode-remote?line=8'>9</a>\u001b[0m         index \u001b[39m+\u001b[39m\u001b[39m=\u001b[39m \u001b[39m1\u001b[39m\n\u001b[1;32m     <a href='vscode-notebook-cell://wsl%2Bubuntu-20.04/home/jahoda/EVO/project/EVO-antTSP/tsp-art-python-master/testNtb.ipynb#ch0000006vscode-remote?line=9'>10</a>\u001b[0m         runs[system]\u001b[39m.\u001b[39mappend([calc_one_run(updated,system),updated])\n\u001b[0;32m---> <a href='vscode-notebook-cell://wsl%2Bubuntu-20.04/home/jahoda/EVO/project/EVO-antTSP/tsp-art-python-master/testNtb.ipynb#ch0000006vscode-remote?line=10'>11</a>\u001b[0m         save_arr(\u001b[39m'\u001b[39m\u001b[39mdark_256_ants\u001b[39m\u001b[39m'\u001b[39m,runs)\n\u001b[1;32m     <a href='vscode-notebook-cell://wsl%2Bubuntu-20.04/home/jahoda/EVO/project/EVO-antTSP/tsp-art-python-master/testNtb.ipynb#ch0000006vscode-remote?line=12'>13</a>\u001b[0m \u001b[39mfor\u001b[39;00m system \u001b[39min\u001b[39;00m systems:\n\u001b[1;32m     <a href='vscode-notebook-cell://wsl%2Bubuntu-20.04/home/jahoda/EVO/project/EVO-antTSP/tsp-art-python-master/testNtb.ipynb#ch0000006vscode-remote?line=13'>14</a>\u001b[0m     \u001b[39mif\u001b[39;00m system \u001b[39m==\u001b[39m \u001b[39m'\u001b[39m\u001b[39melitist\u001b[39m\u001b[39m'\u001b[39m:\n",
      "\u001b[0;31mNameError\u001b[0m: name 'save_arr' is not defined"
     ]
    }
   ],
   "source": [
    "runs = {}\n",
    "for system in systems:\n",
    "    index = 0\n",
    "    runs[system] = []\n",
    "    for i in [10,50,100,128,256]:\n",
    "        updated = def_val_dict.copy()\n",
    "        updated['file'] = '256darkVUT_'+system+'_ants_'+str(i)\n",
    "        updated['ants'] = i\n",
    "        index += 1\n",
    "        runs[system].append([calc_one_run(updated,system),updated])\n",
    "        save_arr('dark_256_ants',runs)\n",
    "\n",
    "for system in systems:\n",
    "    if system == 'elitist':\n",
    "        for elit_val in [0.1,0.5,1.0,2.0,5.0]:\n",
    "            updated = def_val_dict.copy()\n",
    "            updated['file'] = '256darkVUT_'+system+'_elistist_val_'+str(i)\n",
    "            updated['elistist_val'] = i\n",
    "            index += 1\n",
    "            runs[system].append([calc_one_run(updated,system),updated])\n",
    "            save_arr('dark_256_elitist',runs)\n",
    "\n",
    "for system in systems:\n",
    "    for beta in [0.1,1.0,2.0,5.0]:\n",
    "        updated = def_val_dict.copy()\n",
    "        updated['file'] = '256darkVUT_'+system+'_beta_'+str(i)\n",
    "        updated['alpha'] = 1.0 if i >= 1.0 else 0.1\n",
    "        updated['beta'] = i\n",
    "        index += 1\n",
    "        runs[system].append([calc_one_run(updated,system),updated])\n",
    "        save_arr('dark_256_beta',runs)\n",
    "    \n",
    "for system in systems:\n",
    "    for elpha in [0.1,1.0,2.0,5.0]:\n",
    "        updated = def_val_dict.copy()\n",
    "        updated['file'] = '256darkVUT_'+system+'_alpha_'+str(i)\n",
    "        updated['beta'] = 1.0 if i >= 1.0 else 0.1\n",
    "        updated['alpha'] = i\n",
    "        index += 1\n",
    "        runs[system].append([calc_one_run(updated,system),updated])\n",
    "        save_arr('dark_256_alpha',runs)"
   ]
  }
 ],
 "metadata": {
  "interpreter": {
   "hash": "916dbcbb3f70747c44a77c7bcd40155683ae19c65e1c03b4aa3499c5328201f1"
  },
  "kernelspec": {
   "display_name": "Python 3.8.10 64-bit",
   "language": "python",
   "name": "python3"
  },
  "language_info": {
   "codemirror_mode": {
    "name": "ipython",
    "version": 3
   },
   "file_extension": ".py",
   "mimetype": "text/x-python",
   "name": "python",
   "nbconvert_exporter": "python",
   "pygments_lexer": "ipython3",
   "version": "3.8.10"
  },
  "orig_nbformat": 4
 },
 "nbformat": 4,
 "nbformat_minor": 2
}
